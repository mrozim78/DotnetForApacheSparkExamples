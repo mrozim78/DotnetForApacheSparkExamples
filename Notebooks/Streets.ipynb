{
 "cells": [
  {
   "cell_type": "code",
   "execution_count": 90,
   "metadata": {},
   "outputs": [],
   "source": [
    "#r \"nuget: Microsoft.Spark,1.0.0\""
   ]
  },
  {
   "cell_type": "code",
   "execution_count": 91,
   "metadata": {},
   "outputs": [],
   "source": [
    "using Microsoft.Spark.Sql;"
   ]
  },
  {
   "cell_type": "code",
   "execution_count": 92,
   "metadata": {},
   "outputs": [],
   "source": [
    " SparkSession sparkSession = SparkSession.Builder().AppName(\"Street Counter\").GetOrCreate();"
   ]
  },
  {
   "cell_type": "code",
   "execution_count": 93,
   "metadata": {},
   "outputs": [],
   "source": [
    " DataFrame dfCsv =\n",
    "                sparkSession\n",
    "                    .Read()\n",
    "                    .Option(\"delimiter\", \";\")\n",
    "                    .Schema(\"WOJ string ,POW string ,GMI string ,RODZ_GMI string , \" +\n",
    "                            \"SYM string , SYM_UL string , \" +\n",
    "                            \"CECHA string , NAZWA_1 string ,NAZWA_2 string , \" +\n",
    "                            \"STAN_NA string\")\n",
    "                    .Csv(\"streets.csv\");"
   ]
  },
  {
   "cell_type": "code",
   "execution_count": 94,
   "metadata": {},
   "outputs": [],
   "source": [
    "DataFrame dataIn = dfCsv\n",
    "                .WithColumn(\"STREET\", Functions.ConcatWs(\" \", dfCsv[\"CECHA\"], dfCsv[\"NAZWA_1\"], dfCsv[\"NAZWA_2\"]));"
   ]
  },
  {
   "cell_type": "code",
   "execution_count": 95,
   "metadata": {},
   "outputs": [],
   "source": [
    "DataFrame dataGroup = dataIn\n",
    "                .Select(\"STREET\")\n",
    "                .GroupBy(\"STREET\")\n",
    "                .Count()\n",
    "                .WithColumnRenamed(\"count\",\"COUNT\");"
   ]
  },
  {
   "cell_type": "code",
   "execution_count": 96,
   "metadata": {},
   "outputs": [],
   "source": [
    "DataFrame dataOut = dataGroup\n",
    "                .OrderBy(dataGroup[\"COUNT\"]\n",
    "                    .Desc()\n",
    "                );"
   ]
  },
  {
   "cell_type": "code",
   "execution_count": null,
   "metadata": {},
   "outputs": [],
   "source": [
    "dataOut.Show()"
   ]
  },
  {
   "cell_type": "code",
   "execution_count": 98,
   "metadata": {},
   "outputs": [],
   "source": [
    "#r \"nuget:XPlot.Plotly,2.0.0\""
   ]
  },
  {
   "cell_type": "code",
   "execution_count": 99,
   "metadata": {},
   "outputs": [],
   "source": [
    "var first = dataOut.Take(10);\n",
    "var streets = first.Select(a=>a.GetAs<string>(\"STREET\"));\n",
    "var counts = first.Select(a=>a.GetAs<int>(\"COUNT\"));"
   ]
  },
  {
   "cell_type": "code",
   "execution_count": 100,
   "metadata": {},
   "outputs": [],
   "source": [
    "using XPlot.Plotly;"
   ]
  },
  {
   "cell_type": "code",
   "execution_count": null,
   "metadata": {},
   "outputs": [],
   "source": [
    "display(Chart.Plot(new Graph.Bar(){x=streets , y = counts}));"
   ]
  },
  {
   "cell_type": "code",
   "execution_count": null,
   "metadata": {},
   "outputs": [],
   "source": [
    "display(Chart.Plot(new Graph.Pie(){values=counts , labels = streets}));"
   ]
  }
 ],
 "metadata": {
  "kernelspec": {
   "display_name": ".NET (C#)",
   "language": "C#",
   "name": ".net-csharp"
  },
  "language_info": {
   "file_extension": ".cs",
   "mimetype": "text/x-csharp",
   "name": "C#",
   "pygments_lexer": "csharp",
   "version": "8.0"
  }
 },
 "nbformat": 4,
 "nbformat_minor": 4
}
